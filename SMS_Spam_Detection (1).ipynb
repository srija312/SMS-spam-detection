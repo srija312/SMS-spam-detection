{
  "nbformat": 4,
  "nbformat_minor": 0,
  "metadata": {
    "colab": {
      "provenance": []
    },
    "kernelspec": {
      "name": "python3",
      "display_name": "Python 3"
    },
    "language_info": {
      "name": "python"
    }
  },
  "cells": [
    {
      "cell_type": "code",
      "execution_count": 4,
      "metadata": {
        "colab": {
          "base_uri": "https://localhost:8080/",
          "height": 958
        },
        "id": "JnE-53GN4_3Y",
        "outputId": "aa8edd08-c795-4891-b85d-afcbaeed7e79"
      },
      "outputs": [
        {
          "output_type": "stream",
          "name": "stderr",
          "text": [
            "[nltk_data] Downloading package stopwords to /root/nltk_data...\n",
            "[nltk_data]   Package stopwords is already up-to-date!\n"
          ]
        },
        {
          "output_type": "stream",
          "name": "stdout",
          "text": [
            "  label                                            message\n",
            "0   ham  Go until jurong point, crazy.. Available only ...\n",
            "1   ham                      Ok lar... Joking wif u oni...\n",
            "2  spam  Free entry in 2 a weekly competition to win FA...\n",
            "3   ham  U dun say so early hor... U c already then say...\n",
            "4   ham  Nah I don't think he goes to usf, he lives aro...\n",
            "\n",
            "Label distribution:\n",
            " label\n",
            "ham     6\n",
            "spam    4\n",
            "Name: count, dtype: int64\n",
            "\n",
            "Accuracy: 1.0\n"
          ]
        },
        {
          "output_type": "display_data",
          "data": {
            "text/plain": [
              "<Figure size 640x480 with 2 Axes>"
            ],
            "image/png": "[encoded data removed]"
          },
          "metadata": {}
        },
        {
          "output_type": "stream",
          "name": "stdout",
          "text": [
            "\n",
            "Classification Report:\n",
            "               precision    recall  f1-score   support\n",
            "\n",
            "         Ham       1.00      1.00      1.00         1\n",
            "        Spam       1.00      1.00      1.00         1\n",
            "\n",
            "    accuracy                           1.00         2\n",
            "   macro avg       1.00      1.00      1.00         2\n",
            "weighted avg       1.00      1.00      1.00         2\n",
            "\n",
            "Ham\n",
            "Ham\n"
          ]
        }
      ],
      "source": [
        "# SMS Spam Detection Using Naive Bayes\n",
        "\n",
        "# 1. Import Libraries\n",
        "import pandas as pd\n",
        "import numpy as np\n",
        "import matplotlib.pyplot as plt\n",
        "import seaborn as sns\n",
        "import re\n",
        "import nltk\n",
        "from nltk.corpus import stopwords\n",
        "from sklearn.model_selection import train_test_split\n",
        "from sklearn.feature_extraction.text import TfidfVectorizer\n",
        "from sklearn.naive_bayes import MultinomialNB\n",
        "from sklearn.metrics import accuracy_score, confusion_matrix, classification_report\n",
        "nltk.download('stopwords')\n",
        "\n",
        "# 2. Load Dataset\n",
        "file_path = \"/content/SMSSpamCollection.txt\"\n",
        "df = pd.read_csv(file_path, sep='\\t', header=None, names=['label', 'message'])\n",
        "print(df.head())\n",
        "print(\"\\nLabel distribution:\\n\", df['label'].value_counts())\n",
        "\n",
        "# 3. Preprocess Text\n",
        "df['label_num'] = df['label'].map({'ham':0, 'spam':1})\n",
        "\n",
        "def clean_text(text):\n",
        "    text = text.lower()\n",
        "    text = re.sub(r'\\W', ' ', text)\n",
        "    text = re.sub(r'\\d', '', text)\n",
        "    text = re.sub(r'\\s+', ' ', text)\n",
        "    return text\n",
        "\n",
        "df['clean_message'] = df['message'].apply(clean_text)\n",
        "\n",
        "# 4. Split Data (Stratified to maintain class distribution)\n",
        "X = df['clean_message']\n",
        "y = df['label_num']\n",
        "X_train, X_test, y_train, y_test = train_test_split(\n",
        "    X, y, test_size=0.2, random_state=42, stratify=y  # ✅ stratify=y fixes the warning\n",
        ")\n",
        "\n",
        "# 5. Convert Text to Features\n",
        "tfidf = TfidfVectorizer(stop_words=stopwords.words('english'))\n",
        "X_train_tfidf = tfidf.fit_transform(X_train)\n",
        "X_test_tfidf = tfidf.transform(X_test)\n",
        "\n",
        "# 6. Train Naive Bayes Model\n",
        "model = MultinomialNB()\n",
        "model.fit(X_train_tfidf, y_train)\n",
        "\n",
        "# 7. Evaluate Model\n",
        "y_pred = model.predict(X_test_tfidf)\n",
        "print(\"\\nAccuracy:\", accuracy_score(y_test, y_pred))\n",
        "\n",
        "# Confusion Matrix (explicitly provide labels to avoid warning)\n",
        "cm = confusion_matrix(y_test, y_pred, labels=[0,1])\n",
        "sns.heatmap(cm, annot=True, fmt=\"d\", cmap=\"Blues\", xticklabels=['Ham','Spam'], yticklabels=['Ham','Spam'])\n",
        "plt.xlabel(\"Predicted\")\n",
        "plt.ylabel(\"Actual\")\n",
        "plt.show()\n",
        "\n",
        "# Classification Report\n",
        "print(\"\\nClassification Report:\\n\", classification_report(y_test, y_pred, target_names=['Ham','Spam']))\n",
        "\n",
        "# 8. Predict New Messages\n",
        "def predict_spam(message):\n",
        "    message_clean = clean_text(message)\n",
        "    message_tfidf = tfidf.transform([message_clean])\n",
        "    prediction = model.predict(message_tfidf)[0]\n",
        "    return \"Spam\" if prediction == 1 else \"Ham\"\n",
        "\n",
        "# Test predictions\n",
        "print(predict_spam(\"Congratulations! You won a free ticket to Bahamas!\"))\n",
        "print(predict_spam(\"Hey, are we meeting for lunch today?\"))\n"
      ]
    }
  ]
}